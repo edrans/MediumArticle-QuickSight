{
 "cells": [
  {
   "cell_type": "markdown",
   "id": "8eecc178",
   "metadata": {},
   "source": [
    "# QuickSight API \n",
    "\n",
    "We are going to test the QuickSight API working with a classic dataset in SKlearn (a Python library), store it in S3, then import it as a dataset in QuickSighty to be able to generate our dashboards. To do this we use the Python SDK development kit, Boto3.\n",
    "\n",
    "\n",
    "1. [Prequisites](#Prequisites)\n",
    "    * [Import Library](#Library)\n",
    "    * [global variables](#globalvariables)\n",
    "    * [Dataset](#Dataset)\n",
    "    * [Upload dataset to S3](#Upload_dataset)\n",
    "    * [Upload manifest to S3](#Upload_manifest)\n",
    "2. [Quicksight](#Quicksight)\n",
    "    * [Generate DataSource](#DataSource)\n",
    "    * [Generate DataSet](#DataDataSet)\n",
    "    * [Generate Analysis](#DataAnalysis)\n",
    "    * [Generate Template](#DataTemplate)\n",
    "    * [Generate Dashboard](#DataDashboard)\n",
    "    * [Drop Resources](#Dropresources)\n",
    "        \n",
    "    \n",
    "        "
   ]
  },
  {
   "cell_type": "markdown",
   "id": "8bddd0ce",
   "metadata": {},
   "source": [
    "<a id='Prequisites'></a>\n",
    "\n",
    "## Prequisites\n",
    "---\n",
    "\n",
    "<a id='Library'></a>\n",
    "+ ### Import Library"
   ]
  },
  {
   "cell_type": "code",
   "execution_count": null,
   "id": "7d1a4be4",
   "metadata": {},
   "outputs": [],
   "source": [
    "import boto3\n",
    "from sklearn.datasets import load_iris\n",
    "import pandas as pd\n",
    "import numpy as np\n",
    "import json"
   ]
  },
  {
   "cell_type": "markdown",
   "id": "c37078ac",
   "metadata": {},
   "source": [
    "<a id='globalvariables'></a>\n",
    "+ ### Global variables\n",
    "\n",
    "We define global variables that we will use throughout the notebook, we also take the AWS user account credentials and the quickSight username from the json_credentials.json file that we will need to connect to QuickSight.\n"
   ]
  },
  {
   "cell_type": "code",
   "execution_count": null,
   "id": "ef051377",
   "metadata": {},
   "outputs": [],
   "source": [
    "# S3\n",
    "bucket='quicksight-api'\n",
    "region_name = 'us-east-1'\n",
    "name_data = 'iris.csv'\n",
    "uri_data_s3 = 's3://{}/data/{}'.format(bucket,name_data)\n",
    "key_data_s3 = 'data/{}'.format(name_data)\n",
    "name_manifest = 'manifest_iris'\n",
    "uri_manifest_s3 = 's3://{}/manifest/{}.json'.format(bucket,name_manifest)\n",
    "key_manifest_s3 = 'manifest/{}.json'.format(name_manifest)\n",
    "\n",
    "# quicksight\n",
    "DataSourceId = 'DataSourceID-SDK'\n",
    "name_DataSource = 'DataSource-SDK'\n",
    "\n",
    "DataSetId = 'data_irisID_sdk'\n",
    "name_DataSet = 'data_iris_sdk'\n",
    "\n",
    "dataset_template_name = 'iris (2)'\n",
    "analysis_template_name = 'analysis_template_iris'\n",
    "TemplateId ='template_irisID_sdk'\n",
    "name_Template ='template_iris_sdk'\n",
    "Versiontemplate = '1'\n",
    "    \n",
    "AnalysisId = 'analysis_iris_ID_sdk'\n",
    "name_Analysis = 'analysis_iris_sdk'\n",
    "\n",
    "DashboardId = 'dashboard_iris_ID_sdk'\n",
    "name_Dashboard = 'dashboard_iris_sdk'\n",
    "VersionDashboard = '1'\n",
    "\n",
    "# credentials\n",
    "with open('json_credentials.json', 'r') as file:\n",
    "    credentials = json.load(file)\n",
    "    \n",
    "AwsAccountId = credentials['AwsAccountId']\n",
    "name_user = credentials['name_user']\n",
    "arn_user = f\"arn:aws:quicksight:{region_name}:{AwsAccountId}:user/default/{name_user}\""
   ]
  },
  {
   "cell_type": "markdown",
   "id": "c885046b",
   "metadata": {},
   "source": [
    "<a id='Dataset'></a>\n",
    "+ ### Dataset\n",
    "\n",
    "In this case we are going to use a well-known dataset included in the SKlearn library in order to show how we can generate programmatically a dashboard in Quicksight after storing it in S3.\n"
   ]
  },
  {
   "cell_type": "code",
   "execution_count": null,
   "id": "57b31f44",
   "metadata": {},
   "outputs": [],
   "source": [
    "# read dataset iris to sklearn\n",
    "iris = load_iris()\n",
    "data = pd.concat([pd.DataFrame(iris.data),pd.DataFrame(iris.target)], axis=1)\n",
    "data.columns = iris.feature_names + ['labels']\n",
    "data.labels = data.labels.astype('O')"
   ]
  },
  {
   "cell_type": "code",
   "execution_count": null,
   "id": "74d63dc8",
   "metadata": {},
   "outputs": [],
   "source": [
    "data.head()"
   ]
  },
  {
   "cell_type": "code",
   "execution_count": null,
   "id": "39efa059",
   "metadata": {},
   "outputs": [],
   "source": [
    "data.info()"
   ]
  },
  {
   "cell_type": "markdown",
   "id": "1630fc3c",
   "metadata": {},
   "source": [
    "<a id='Upload_dataset'></a>\n",
    "+ ### Upload dataset to S3\n",
    "\n",
    "We create a bucket in S3 and upload our dataset to S3 from the variables **bucket**, **name_data** and **uri_data_s3**.\n"
   ]
  },
  {
   "cell_type": "code",
   "execution_count": null,
   "id": "0a769b04",
   "metadata": {},
   "outputs": [],
   "source": [
    "# create session s3\n",
    "client = boto3.client('s3')\n",
    "\n",
    "# create bucket\n",
    "client.create_bucket(\n",
    "    Bucket=bucket,\n",
    ")"
   ]
  },
  {
   "cell_type": "code",
   "execution_count": null,
   "id": "3c0555af",
   "metadata": {},
   "outputs": [],
   "source": [
    "data.to_csv('iris.csv',index=False)\n",
    "\n",
    "# update iris to s3\n",
    "client.upload_file('iris.csv', bucket, key_data_s3)"
   ]
  },
  {
   "cell_type": "markdown",
   "id": "204892ce",
   "metadata": {},
   "source": [
    "<a id='Upload_manifest'></a>\n",
    "+ ### Upload manifest to S3\n",
    "\n",
    "We create a manifest file with information related to the location in S3 and the characteristics of the dataset. Then we upload it to S3.\n"
   ]
  },
  {
   "cell_type": "code",
   "execution_count": null,
   "id": "5f5b1323",
   "metadata": {},
   "outputs": [],
   "source": [
    "# create manifest\n",
    "import json\n",
    "\n",
    "json_object = {}\n",
    "json_object['fileLocations'] = []\n",
    "\n",
    "json_object['fileLocations'].append({'URIs':['{}'.format(uri_data_s3)]})\n",
    "json_object['globalUploadSettings'] = {}\n",
    "json_object['globalUploadSettings']['format'] = 'CSV'\n",
    "json_object['globalUploadSettings']['delimiter'] = ','\n",
    "json_object['globalUploadSettings']['textqualifier'] = \"'\"\n",
    "json_object['globalUploadSettings']['containsHeader'] = 'true'            \n",
    "\n",
    "with open('json_object.json', 'w') as file:\n",
    "    json.dump(json_object, file, indent=4)"
   ]
  },
  {
   "cell_type": "code",
   "execution_count": null,
   "id": "cae1a8ca",
   "metadata": {},
   "outputs": [],
   "source": [
    "# update manifest to s3\n",
    "client.put_object(\n",
    "     Body=json.dumps(json_object),\n",
    "     Bucket=bucket,\n",
    "     Key=key_manifest_s3\n",
    ")"
   ]
  },
  {
   "cell_type": "markdown",
   "id": "2a353d76",
   "metadata": {},
   "source": [
    "<a id='Quicksight'></a>\n",
    "\n",
    "## QuickSight\n",
    "---\n",
    "\n",
    "<a id='DataSource'></a>\n",
    "+ ### Generate DataSource\n",
    "\n",
    "Firstly we generate the connection with QuickSight and then with our datasource, which is S3 in this case.\n",
    "\n",
    "In this case we use the function [create_data_source](https://boto3.amazonaws.com/v1/documentation/api/latest/reference/services/quicksight.html#QuickSight.Client.create_data_source). After creation, we list the DataSource and verify that it was created correctly using the function [list_data_sources](https://boto3.amazonaws.com/v1/documentation/api/latest/reference/services/quicksight.html#QuickSight.Client.list_data_sources), It can also be done by command line by the following syntax.\n",
    "\n",
    "`!aws quicksight list-data-sources --region $region_name --aws-account-id $AwsAccountId`"
   ]
  },
  {
   "cell_type": "code",
   "execution_count": null,
   "id": "36284c6f",
   "metadata": {},
   "outputs": [],
   "source": [
    "# create session quicksight\n",
    "qs_client = boto3.client('quicksight',\n",
    "        region_name=region_name)"
   ]
  },
  {
   "cell_type": "code",
   "execution_count": null,
   "id": "c558b0ed",
   "metadata": {},
   "outputs": [],
   "source": [
    "# create data source \n",
    "Response_datasource = qs_client.create_data_source(\n",
    "    AwsAccountId=AwsAccountId, \n",
    "    DataSourceId=DataSourceId,\n",
    "    Name=name_DataSource,\n",
    "    Type='S3',\n",
    "    DataSourceParameters={\n",
    "        'S3Parameters':{\n",
    "            'ManifestFileLocation':{\n",
    "                'Bucket':bucket,\n",
    "                'Key':key_manifest_s3\n",
    "            }\n",
    "        }\n",
    "    },\n",
    "   Permissions=[\n",
    "        {\n",
    "            \"Principal\":f'{arn_user}',\n",
    "            \"Actions\": [\n",
    "                \"quicksight:DescribeDataSource\",\n",
    "                \"quicksight:DescribeDataSourcePermissions\",\n",
    "                \"quicksight:PassDataSource\",\n",
    "                \"quicksight:UpdateDataSource\",\n",
    "                \"quicksight:UpdateDataSourcePermissions\",\n",
    "                \"quicksight:DeleteDataSource\"\n",
    "            ]\n",
    "        }\n",
    "    ]\n",
    ")\n",
    "Response_datasource"
   ]
  },
  {
   "cell_type": "code",
   "execution_count": null,
   "id": "347c2d6b",
   "metadata": {},
   "outputs": [],
   "source": [
    "# We verify that the datasource was created\n",
    "Response_list_datasource = qs_client.list_data_sources(AwsAccountId=AwsAccountId )\n",
    "np.sum([np.array([Response_list_datasource['DataSources'][i]['Name'] for i in np.arange(len(Response_list_datasource['DataSources']))])==name_DataSource])==1"
   ]
  },
  {
   "cell_type": "markdown",
   "id": "e747b9ab",
   "metadata": {},
   "source": [
    "<a id='DataDataSet'></a>\n",
    "+ ### Generate DataSet\n",
    "\n",
    "In this case we use the function [create_data_set](https://boto3.amazonaws.com/v1/documentation/api/latest/reference/services/quicksight.html#QuickSight.Client.create_data_set). After creation, we list the DataSet of the account and verify that it was created correctly using the function [list_data_set](https://boto3.amazonaws.com/v1/documentation/api/latest/reference/services/quicksight.html#QuickSight.Client.list_data_sources), it can also be done on the command line by the following syntax.\n",
    "\n",
    "`!aws quicksight list-data-sets --region $region_name --aws-account-id $AwsAccountId`"
   ]
  },
  {
   "cell_type": "code",
   "execution_count": null,
   "id": "576587fe",
   "metadata": {},
   "outputs": [],
   "source": [
    "Response_dataset = qs_client.create_data_set(\n",
    "    AwsAccountId=AwsAccountId,\n",
    "    DataSetId=DataSetId,\n",
    "    Name=name_DataSet,\n",
    "    PhysicalTableMap={\n",
    "        'iris':{\n",
    "            'S3Source':{\n",
    "                'DataSourceArn':Response_datasource['Arn'],\n",
    "                \"InputColumns\": [\n",
    "                    {\n",
    "                        'Name':'sepal length (cm)',\n",
    "                        'Type':\"STRING\"\n",
    "                    },\n",
    "                    {\n",
    "                        'Name':'sepal width (cm)',\n",
    "                        'Type':\"STRING\"\n",
    "                    },\n",
    "                    {\n",
    "                        'Name':'petal length (cm)',\n",
    "                        'Type':\"STRING\"\n",
    "                    },\n",
    "                    {\n",
    "                        'Name':'petal width (cm)',\n",
    "                        'Type':\"STRING\"\n",
    "                    },\n",
    "                    {\n",
    "                        'Name':'labels',\n",
    "                        'Type':\"STRING\"\n",
    "                    }\n",
    "                ]\n",
    "            }\n",
    "        }\n",
    "    },\n",
    "    LogicalTableMap={\n",
    "        'iris':{\n",
    "            'Alias':'iris_alias',\n",
    "            'DataTransforms':[\n",
    "                {\n",
    "                    'CastColumnTypeOperation':{\n",
    "                        'ColumnName':'sepal length (cm)',\n",
    "                        'NewColumnType':'DECIMAL'\n",
    "                    }\n",
    "                },\n",
    "                {\n",
    "                    'CastColumnTypeOperation':{\n",
    "                        'ColumnName':'sepal width (cm)',\n",
    "                        'NewColumnType':'DECIMAL'\n",
    "                    }\n",
    "                },\n",
    "                {\n",
    "                    'CastColumnTypeOperation':{\n",
    "                        'ColumnName':'petal length (cm)',\n",
    "                        'NewColumnType':'DECIMAL'\n",
    "                    }\n",
    "                },\n",
    "                {\n",
    "                    'CastColumnTypeOperation':{\n",
    "                        'ColumnName':'petal width (cm)',\n",
    "                        'NewColumnType':'DECIMAL'\n",
    "                    }\n",
    "                },\n",
    "            ],\n",
    "            'Source':{\n",
    "                'PhysicalTableId':'iris'\n",
    "            }\n",
    "        }\n",
    "    },\n",
    "    ImportMode=\"SPICE\",\n",
    "    Permissions=[\n",
    "        {\n",
    "            \"Principal\":arn_user,\n",
    "            \"Actions\": [\n",
    "                \"quicksight:UpdateDataSetPermissions\",\n",
    "                \"quicksight:DescribeDataSet\",\n",
    "                \"quicksight:DescribeDataSetPermissions\",\n",
    "                \"quicksight:PassDataSet\",\n",
    "                \"quicksight:DescribeIngestion\",\n",
    "                \"quicksight:ListIngestions\",\n",
    "                \"quicksight:UpdateDataSet\",\n",
    "                \"quicksight:DeleteDataSet\",\n",
    "                \"quicksight:CreateIngestion\",\n",
    "                \"quicksight:CancelIngestion\"\n",
    "            ]\n",
    "        }\n",
    "    ]  \n",
    ")\n",
    "\n",
    "Response_dataset"
   ]
  },
  {
   "cell_type": "code",
   "execution_count": null,
   "id": "ed0b78e9",
   "metadata": {},
   "outputs": [],
   "source": [
    "# We verify that the dataset was created\n",
    "Response_list_dataset = qs_client.list_data_sets(AwsAccountId=AwsAccountId)\n",
    "np.sum([np.array([Response_list_dataset['DataSetSummaries'][i]['Name'] for i in np.arange(len(Response_list_dataset['DataSetSummaries']))])==name_DataSet])==1"
   ]
  },
  {
   "cell_type": "markdown",
   "id": "d57b1e8a",
   "metadata": {},
   "source": [
    "<a id='DataTemplate'></a>\n",
    "+ ### Generate Template\n",
    "\n",
    "Once we have generated the DataSet we must generate an analysis template, to do this we go to the QuickSight console and from there we generate a simple analysis, which we are going to call analysis_template_iris, with a dataset that has the same structure than our iris dataset so that an analysis could be created through SDK with our dataset created in this notebook.\n",
    "\n",
    "Once our analysis is built by console, we generate the template using the function [create_template](https://boto3.amazonaws.com/v1/documentation/api/latest/reference/services/quicksight.html#QuickSight.Client.create_template) To do this, first we need the ARN corresponding to the said analysis, which is obtained with the function [list_analyses](https://boto3.amazonaws.com/v1/documentation/api/latest/reference/services/quicksight.html#QuickSight.Client.list_analyses) and the ARN corresponding to the dataset of the same analysis which is obtained from the function [list_data_sets](https://boto3.amazonaws.com/v1/documentation/api/latest/reference/services/quicksight.html#QuickSight.Client.list_data_sets)\n"
   ]
  },
  {
   "cell_type": "code",
   "execution_count": null,
   "id": "309a8f81",
   "metadata": {},
   "outputs": [],
   "source": [
    "response_list_analysis = qs_client.list_analyses(\n",
    "    AwsAccountId=AwsAccountId\n",
    ")\n",
    "\n",
    "pos = np.where(np.array([response_list_analysis['AnalysisSummaryList'][i]['Name'] for i in np.arange(len(response_list_analysis['AnalysisSummaryList']))]) == analysis_template_name)[0][0]\n",
    "ARN_analysis_template = response_list_analysis['AnalysisSummaryList'][pos]['Arn']"
   ]
  },
  {
   "cell_type": "code",
   "execution_count": null,
   "id": "fe5c59d7",
   "metadata": {},
   "outputs": [],
   "source": [
    "response_list_datasets = qs_client.list_data_sets(\n",
    "    AwsAccountId=AwsAccountId\n",
    ")\n",
    "\n",
    "pos = np.where(np.array([response_list_datasets['DataSetSummaries'][i]['Name'] for i in np.arange(len(response_list_datasets['DataSetSummaries']))]) == dataset_template_name)[0][0]\n",
    "ARN_dataset_template = response_list_datasets['DataSetSummaries'][pos]['Arn']"
   ]
  },
  {
   "cell_type": "code",
   "execution_count": null,
   "id": "655e1df3",
   "metadata": {},
   "outputs": [],
   "source": [
    "response_template = qs_client.create_template(\n",
    "    AwsAccountId=AwsAccountId,\n",
    "    TemplateId=TemplateId,\n",
    "    Name=name_Template,\n",
    "    SourceEntity= {\n",
    "        'SourceAnalysis': {\n",
    "            'Arn':ARN_analysis_template,\n",
    "            'DataSetReferences': [\n",
    "                {\n",
    "                    'DataSetPlaceholder':dataset_template_name,\n",
    "                    'DataSetArn':ARN_dataset_template\n",
    "                },\n",
    "            ]\n",
    "        }\n",
    "    },\n",
    "    VersionDescription=Versiontemplate\n",
    ")\n",
    "response_template"
   ]
  },
  {
   "cell_type": "markdown",
   "id": "5e679a33",
   "metadata": {},
   "source": [
    "<a id='DataAnalysis'></a>\n",
    "+ ### Generate Analysis\n",
    "\n",
    "After generating the template we use it to generate our analysis with the dataset that we generated in the notebook, the same one that we stored in the S3 bucket. At this point we use the function [create_analysis](https://boto3.amazonaws.com/v1/documentation/api/latest/reference/services/quicksight.html#QuickSight.Client.create_analysis)\n"
   ]
  },
  {
   "cell_type": "code",
   "execution_count": null,
   "id": "73a32586",
   "metadata": {},
   "outputs": [],
   "source": [
    "Response_analysis = qs_client.create_analysis(\n",
    "    AwsAccountId=AwsAccountId,\n",
    "    AnalysisId=AnalysisId,\n",
    "    Name=name_Analysis,\n",
    "    Permissions=[\n",
    "        {\n",
    "            'Principal':arn_user,\n",
    "            'Actions': [\n",
    "                \"quicksight:RestoreAnalysis\",\n",
    "                \"quicksight:UpdateAnalysisPermissions\",\n",
    "                \"quicksight:DeleteAnalysis\",\n",
    "                \"quicksight:DescribeAnalysisPermissions\",\n",
    "                \"quicksight:QueryAnalysis\",\n",
    "                \"quicksight:DescribeAnalysis\",\n",
    "                \"quicksight:UpdateAnalysis\"\n",
    "            ]\n",
    "        }\n",
    "    ],\n",
    "    SourceEntity={\n",
    "        'SourceTemplate':{\n",
    "            'DataSetReferences':[\n",
    "                {\n",
    "                    'DataSetPlaceholder':dataset_template_name,\n",
    "                    'DataSetArn':Response_dataset['Arn']\n",
    "                },\n",
    "            ],\n",
    "            'Arn':response_template['Arn']\n",
    "        }\n",
    "    }\n",
    ")\n",
    "Response_analysis"
   ]
  },
  {
   "cell_type": "markdown",
   "id": "3461957a",
   "metadata": {},
   "source": [
    "<a id='DataDashboard'></a>\n",
    "+ ### Generate Dashboard\n",
    "\n",
    "After generating the template We use it to generate a dashboard with the dataset that we generated in the notebook, the same one that we stored in the S3 bucket. At this point we use the function [create_dashboard](https://boto3.amazonaws.com/v1/documentation/api/latest/reference/services/quicksight.html#QuickSight.Client.create_analysis)\n",
    "\n"
   ]
  },
  {
   "cell_type": "code",
   "execution_count": null,
   "id": "d86592dd",
   "metadata": {},
   "outputs": [],
   "source": [
    "Response_dashboard = qs_client.create_dashboard(\n",
    "    AwsAccountId=AwsAccountId,\n",
    "    DashboardId=DashboardId,\n",
    "    Name=name_Dashboard,\n",
    "    Permissions=[\n",
    "        {\n",
    "            'Principal':arn_user,\n",
    "            'Actions':[\n",
    "                'quicksight:DescribeDashboard',\n",
    "                'quicksight:ListDashboardVersions',\n",
    "                'quicksight:UpdateDashboardPermissions',\n",
    "                'quicksight:QueryDashboard',\n",
    "                'quicksight:UpdateDashboard',\n",
    "                'quicksight:DeleteDashboard',\n",
    "                'quicksight:DescribeDashboardPermissions',\n",
    "                'quicksight:UpdateDashboardPublishedVersion'\n",
    "            ]\n",
    "        }\n",
    "    ],\n",
    "    SourceEntity={\n",
    "        'SourceTemplate':{\n",
    "            'DataSetReferences':[\n",
    "                {\n",
    "                    'DataSetPlaceholder':dataset_template_name,\n",
    "                    'DataSetArn':Response_dataset['Arn']\n",
    "                }\n",
    "            ],\n",
    "            'Arn':response_template['Arn']\n",
    "        }\n",
    "    },\n",
    "    VersionDescription=VersionDashboard\n",
    ")\n",
    "Response_dashboard"
   ]
  },
  {
   "cell_type": "markdown",
   "id": "7a470d83",
   "metadata": {},
   "source": [
    "<a id='Dropresources'></a>\n",
    "+ ### Drop Resources\n",
    "\n",
    "Finally, all the resources that were generated are eliminated."
   ]
  },
  {
   "cell_type": "code",
   "execution_count": null,
   "id": "42d5a516",
   "metadata": {},
   "outputs": [],
   "source": [
    "# drop datasource\n",
    "qs_client.delete_data_source(\n",
    "    AwsAccountId=AwsAccountId,\n",
    "    DataSourceId=DataSourceId\n",
    ")"
   ]
  },
  {
   "cell_type": "code",
   "execution_count": null,
   "id": "4940fdf5",
   "metadata": {},
   "outputs": [],
   "source": [
    "# drop dataset\n",
    "qs_client.delete_data_set(\n",
    "    AwsAccountId=AwsAccountId,\n",
    "    DataSetId=DataSetId\n",
    ")"
   ]
  },
  {
   "cell_type": "code",
   "execution_count": null,
   "id": "75007be0",
   "metadata": {},
   "outputs": [],
   "source": [
    "# drop template\n",
    "qs_client.delete_template(\n",
    "    AwsAccountId=AwsAccountId,\n",
    "    TemplateId=TemplateId\n",
    ")"
   ]
  },
  {
   "cell_type": "code",
   "execution_count": null,
   "id": "4f0f6cab",
   "metadata": {},
   "outputs": [],
   "source": [
    "# drop analysis\n",
    "qs_client.delete_analysis(\n",
    "    AwsAccountId=AwsAccountId,\n",
    "    AnalysisId=AnalysisId\n",
    ")"
   ]
  },
  {
   "cell_type": "code",
   "execution_count": null,
   "id": "3c2bce1f",
   "metadata": {},
   "outputs": [],
   "source": [
    "# drop Dashboard\n",
    "qs_client.delete_dashboard(\n",
    "    AwsAccountId=AwsAccountId,\n",
    "    DashboardId=DashboardId\n",
    ")"
   ]
  },
  {
   "cell_type": "code",
   "execution_count": null,
   "id": "cab01259",
   "metadata": {},
   "outputs": [],
   "source": [
    "# drop objects\n",
    "s3 = boto3.resource('s3')\n",
    "s3_bucket = s3.Bucket(bucket)\n",
    "\n",
    "s3_bucket.delete_objects(\n",
    "    Delete={\n",
    "        'Objects':[\n",
    "            {\n",
    "                'Key':key_data_s3\n",
    "            },\n",
    "            {\n",
    "                'Key':key_manifest_s3\n",
    "            },\n",
    "        ]\n",
    "    }\n",
    ")\n",
    "\n"
   ]
  },
  {
   "cell_type": "code",
   "execution_count": null,
   "id": "44d390bb",
   "metadata": {},
   "outputs": [],
   "source": [
    "# drop bucket\n",
    "s3_bucket.delete(\n",
    "    ExpectedBucketOwner=AwsAccountId\n",
    ")"
   ]
  },
  {
   "cell_type": "code",
   "execution_count": null,
   "id": "2127a3a7",
   "metadata": {},
   "outputs": [],
   "source": []
  }
 ],
 "metadata": {
  "kernelspec": {
   "display_name": "conda_python3",
   "language": "python",
   "name": "conda_python3"
  },
  "language_info": {
   "codemirror_mode": {
    "name": "ipython",
    "version": 3
   },
   "file_extension": ".py",
   "mimetype": "text/x-python",
   "name": "python",
   "nbconvert_exporter": "python",
   "pygments_lexer": "ipython3",
   "version": "3.8.12"
  },
  "vscode": {
   "interpreter": {
    "hash": "369f2c481f4da34e4445cda3fffd2e751bd1c4d706f27375911949ba6bb62e1c"
   }
  }
 },
 "nbformat": 4,
 "nbformat_minor": 5
}
